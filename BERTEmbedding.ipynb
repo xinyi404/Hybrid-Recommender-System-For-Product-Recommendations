{
 "cells": [
  {
   "cell_type": "code",
   "execution_count": null,
   "metadata": {},
   "outputs": [],
   "source": [
    "# Hybrid Recommender System with Sentiment Analysis (BERT-uncased)\n",
    "pip install pandas tqdm numpy nltk scikit-learn transformers torch plotly\n",
    "pip install tensorflow\n",
    "\n",
    "# Step 1: Import Libraries\n",
    "\n",
    "import pandas as pd\n",
    "from tqdm import tqdm\n",
    "import numpy as np\n",
    "from nltk.corpus import stopwords\n",
    "from sklearn.model_selection import train_test_split\n",
    "from sklearn.decomposition import TruncatedSVD\n",
    "from transformers import BertTokenizer,BertModel,BertForSequenceClassification\n",
    "import tensorflow\n",
    "from sklearn.metrics import mean_squared_error\n",
    "import plotly.express as px\n",
    "import plotly.graph_objects as go\n",
    "\n",
    "# Check if a GPU is available\n",
    "import torch\n",
    "device = torch.device('cuda' if torch.cuda.is_available() else 'cpu')\n",
    "\n",
    "# Load the model and move it to the device (GPU or CPU)\n",
    "model = BertModel.from_pretrained('bert-base-uncased').to(device)\n",
    "\n",
    "# Load the tokenizer\n",
    "tokenizer = BertTokenizer.from_pretrained('bert-base-uncased')\n",
    "\n",
    "# Function to preprocess text with BERT\n",
    "def preprocess_with_bert(text, max_length=512):\n",
    "    encoding = tokenizer(\n",
    "        text,\n",
    "        max_length=max_length,\n",
    "        padding='max_length',\n",
    "        truncation=True,\n",
    "        return_tensors='pt'\n",
    "    )\n",
    "    input_ids = encoding['input_ids'][0].to(device)\n",
    "    attention_mask = encoding['attention_mask'][0].to(device)\n",
    "    return input_ids, attention_mask\n",
    "\n",
    "# Function to get BERT embeddings\n",
    "def bert_embedding(text):\n",
    "    input_ids, attention_mask = preprocess_with_bert(text)\n",
    "    input_ids = input_ids.unsqueeze(0)\n",
    "    attention_mask = attention_mask.unsqueeze(0)\n",
    "    with torch.no_grad():\n",
    "        outputs = model(input_ids=input_ids, attention_mask=attention_mask)\n",
    "        last_hidden_states = outputs.last_hidden_state\n",
    "    sentence_embedding = torch.mean(last_hidden_states, dim=1).cpu().numpy()\n",
    "    return sentence_embedding.flatten()\n",
    "\n",
    "# Example usage\n",
    "sample_text = \"This is a sample text for embedding.\"\n",
    "embedding = bert_embedding(sample_text)\n",
    "print(embedding)\n"
   ]
  }
 ],
 "metadata": {
  "kernelspec": {
   "display_name": "Python 3",
   "language": "python",
   "name": "python3"
  },
  "language_info": {
   "codemirror_mode": {
    "name": "ipython",
    "version": 3
   },
   "file_extension": ".py",
   "mimetype": "text/x-python",
   "name": "python",
   "nbconvert_exporter": "python",
   "pygments_lexer": "ipython3",
   "version": "3.8.5"
  }
 },
 "nbformat": 4,
 "nbformat_minor": 4
}
